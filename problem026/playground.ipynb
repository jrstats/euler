{
 "cells": [
  {
   "cell_type": "markdown",
   "metadata": {},
   "source": [
    "# Problem 48\n",
    "\n",
    "## Self powers\n",
    "\n",
    "The series, $1^1 + 2^2 + 3^3 + ... + 10^{10} = 10405071317$.\n",
    "\n",
    "Find the last ten digits of the series, $1^1 + 2^2 + 3^3 + ... + 1000^{1000}$."
   ]
  },
  {
   "cell_type": "code",
   "execution_count": 1,
   "metadata": {},
   "outputs": [],
   "source": [
    "import itertools as it\n",
    "\n",
    "def checkCycle(decimal, cycle):\n",
    "    for i, x in enumerate(it.cycle(cycle)):\n",
    "        if i>=len(decimal):\n",
    "            break\n",
    "        \n",
    "        if (x != decimal[i]):\n",
    "            return False\n",
    "        \n",
    "    return True"
   ]
  },
  {
   "cell_type": "code",
   "execution_count": 45,
   "metadata": {},
   "outputs": [],
   "source": [
    "from decimal import Decimal, getcontext\n",
    "import math\n",
    "\n",
    "import mpmath\n",
    "\n",
    "getcontext().prec = 1000\n",
    "mpmath.mp.dps = 1000"
   ]
  },
  {
   "cell_type": "code",
   "execution_count": 51,
   "metadata": {},
   "outputs": [],
   "source": [
    "import re\n",
    "from decimal import Decimal\n",
    "\n",
    "def reciprocalDecimal(n):\n",
    "    reciprocal = Decimal(1)/Decimal(n)\n",
    "    decimal = str(reciprocal)[2:-1] # remove last digit (rounding)\n",
    "    return decimal\n",
    "\n",
    "def findSteps(decimal, substring):\n",
    "    matches = [x.start() for x in re.finditer(substring, decimal)]\n",
    "    matches_steps = {x - matches[0] for x in matches[1:]}\n",
    "    \n",
    "    # TODO: remove multiples\n",
    "    matches_steps1 = list(matches_steps)\n",
    "    matches_steps1.sort()\n",
    "    return matches_steps1\n",
    "\n",
    "\n",
    "def findCycleOne(n):\n",
    "    decimal = reciprocalDecimal(n)\n",
    "    for i, d in enumerate(decimal):\n",
    "        decimal_end = decimal[i:]\n",
    "        steps = findSteps(decimal_end, d)\n",
    "        if len(steps) == 0:\n",
    "            continue\n",
    "        \n",
    "        for s in steps:\n",
    "            if s > len(decimal_end) - 5:\n",
    "                continue\n",
    "\n",
    "            if checkCycle(decimal_end, decimal_end[:s]):\n",
    "                return {\"decimal\": \"0.\"+decimal, \"cycleLength\": s, \"cycle\": decimal[i:i+s]}\n",
    "\n",
    "    return {\"decimal\": \"0.\"+decimal, \"cycleLength\": 0, \"cycle\": None}\n",
    "\n",
    "def findCycleMany(maxN):\n",
    "    ## efficient order?\n",
    "    cycles = {n: findCycleOne(n) for n in range(1, maxN+1)}\n",
    "    return cycles\n",
    "        \n",
    "\n",
    "def findLongestCycle(maxN):\n",
    "    longestCycle = 0\n",
    "    longestCycleN = 0\n",
    "    for n in range(1, maxN+1):\n",
    "        cycleN = findCycleOne(n)\n",
    "        if cycleN[\"cycleLength\"] > longestCycle:\n",
    "            longestCycleN = n\n",
    "        longestCycle = max(longestCycle, cycleN[\"cycleLength\"])\n",
    "\n",
    "    return {\"n\": longestCycleN, \"cycle\": longestCycle}"
   ]
  },
  {
   "cell_type": "code",
   "execution_count": 55,
   "metadata": {},
   "outputs": [
    {
     "data": {
      "text/plain": [
       "{'n': 193, 'cycle': 192}"
      ]
     },
     "execution_count": 55,
     "metadata": {},
     "output_type": "execute_result"
    }
   ],
   "source": [
    "findLongestCycle(200)"
   ]
  },
  {
   "cell_type": "code",
   "execution_count": 47,
   "metadata": {},
   "outputs": [
    {
     "data": {
      "text/plain": [
       "{'decimal': '0.000591366055588409225310467179183914843287995269071555292726197516262566528681253696037847427557658190419869899467770549970431697220579538734476641040804257835600236546422235363690124186871673565937315198107628622117090479006505026611472501478415138971023063276167947959787108219988172678888231815493790656416321703134240094618568894145476049674748669426374926079243051448846836191602602010644589000591366055588409225310467179183914843287995269071555292726197516262566528681253696037847427557658190419869899467770549970431697220579538734476641040804257835600236546422235363690124186871673565937315198107628622117090479006505026611472501478415138971023063276167947959787108219988172678888231815493790656416321703134240094618568894145476049674748669426374926079243051448846836191602602010644589000591366055588409225310467179183914843287995269071555292726197516262566528681253696037847427557658190419869899467770549970431697220579538734476641040804257835600236546422235363690124186871673565937315198107628',\n",
       " 'cycleLength': 396,\n",
       " 'cycle': '000591366055588409225310467179183914843287995269071555292726197516262566528681253696037847427557658190419869899467770549970431697220579538734476641040804257835600236546422235363690124186871673565937315198107628622117090479006505026611472501478415138971023063276167947959787108219988172678888231815493790656416321703134240094618568894145476049674748669426374926079243051448846836191602602010644589'}"
      ]
     },
     "execution_count": 47,
     "metadata": {},
     "output_type": "execute_result"
    }
   ],
   "source": [
    "# findCycleOne(271)\n",
    "# findCycleOne(87)\n",
    "findCycleOne(1691)"
   ]
  },
  {
   "cell_type": "code",
   "execution_count": null,
   "metadata": {},
   "outputs": [],
   "source": []
  },
  {
   "cell_type": "code",
   "execution_count": 48,
   "metadata": {},
   "outputs": [
    {
     "data": {
      "text/plain": [
       "[{983: {'decimal': '0.00101729399796541200406917599186164801627670396744659206510681586978636826042726347914547304170905391658189216683621566632756866734486266531027466937945066124109867751780264496439471007121057985757884028484231943031536113936927772126144455747711088504577822990844354018311291963377416073245167853509664292980671414038657171922685656154628687690742624618514750762970498474059003051881993896236012207527975584944048830111902339776195320447609359104781281790437436419125127161749745676500508646998982706002034587995930824008138351983723296032553407934893184130213631739572736520854526958290946083418107833163784333672431332655137334689725330620549338758901322482197355035605289928789420142421159715157680569684638860630722278738555442522889114954221770091556459816887080366225839267548321464903357070193285859613428280773143438453713123092573753814852492370295015259409969481180061037639877924720244150559511698880976602238046795523906408952187182095625635808748728382502543234994913530010172939979654120',\n",
       "   'cycleLength': 982,\n",
       "   'cycle': '0010172939979654120040691759918616480162767039674465920651068158697863682604272634791454730417090539165818921668362156663275686673448626653102746693794506612410986775178026449643947100712105798575788402848423194303153611393692777212614445574771108850457782299084435401831129196337741607324516785350966429298067141403865717192268565615462868769074262461851475076297049847405900305188199389623601220752797558494404883011190233977619532044760935910478128179043743641912512716174974567650050864699898270600203458799593082400813835198372329603255340793489318413021363173957273652085452695829094608341810783316378433367243133265513733468972533062054933875890132248219735503560528992878942014242115971515768056968463886063072227873855544252288911495422177009155645981688708036622583926754832146490335707019328585961342828077314343845371312309257375381485249237029501525940996948118006103763987792472024415055951169888097660223804679552390640895218718209562563580874872838250254323499491353'}}]"
      ]
     },
     "execution_count": 48,
     "metadata": {},
     "output_type": "execute_result"
    }
   ],
   "source": [
    "cycles = findCycleMany(1000)\n",
    "max_cycle = max([cycles[x][\"cycleLength\"] for x in cycles])\n",
    "[{x: cycles[x]} for x in cycles if cycles[x][\"cycleLength\"] == max_cycle]"
   ]
  }
 ],
 "metadata": {
  "interpreter": {
   "hash": "3eda99ec173cadbd0ab7c48c8ad88375f3b290b4cec4f553fac82ed200cff698"
  },
  "kernelspec": {
   "display_name": "Python 3.10.4 ('venv': venv)",
   "language": "python",
   "name": "python3"
  },
  "language_info": {
   "codemirror_mode": {
    "name": "ipython",
    "version": 3
   },
   "file_extension": ".py",
   "mimetype": "text/x-python",
   "name": "python",
   "nbconvert_exporter": "python",
   "pygments_lexer": "ipython3",
   "version": "3.10.4"
  },
  "orig_nbformat": 2
 },
 "nbformat": 4,
 "nbformat_minor": 2
}
