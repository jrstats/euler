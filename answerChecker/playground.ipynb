{
 "cells": [
  {
   "cell_type": "code",
   "execution_count": null,
   "metadata": {},
   "outputs": [],
   "source": [
    "from selenium import webdriver\n",
    "from selenium.webdriver.support.ui import Select\n",
    "\n",
    "guess = 1\n",
    "problem = 33\n",
    "\n",
    "\n",
    "## needs to be logged in already\n",
    "def isGuessCorrect(problem, guess):\n",
    "    driver = webdriver.Firefox()\n",
    "    driver.get(f\"https://projecteuler.net/problem={problem}\")\n",
    "    driver.find_element_by_xpath('//*[@id=\"guess\"]').send_keys(guess)\n",
    "    driver.find_elements_by_xpath(\"/html/body/div[1]/div[3]/div[7]/form/div/div[2]/input\").click()\n",
    "    if driver.find_elements_by_xpath(\"/html/body/div[1]/div[3]/p[1]\").text == \"Sorry, but the answer you gave appears to be incorrect.\":\n",
    "        answer = False\n",
    "    else:\n",
    "        answer = True\n",
    "    driver.close()\n",
    "    return answer\n"
   ]
  }
 ],
 "metadata": {
  "language_info": {
   "name": "python"
  },
  "orig_nbformat": 4
 },
 "nbformat": 4,
 "nbformat_minor": 2
}
