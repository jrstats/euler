{
 "cells": [
  {
   "cell_type": "code",
   "execution_count": 3,
   "metadata": {},
   "outputs": [],
   "source": [
    "from selenium import webdriver\n",
    "from selenium.webdriver.firefox.options import Options\n",
    "from selenium.webdriver.support.ui import Select\n",
    "import pickle\n",
    "\n",
    "guess = 1\n",
    "problem = 33\n",
    "\n",
    "\n",
    "## needs to be logged in already\n",
    "def isGuessCorrect(problem, guess, profile_path=r'C:\\Users\\jrobinson\\AppData\\Roaming\\Mozilla\\Firefox\\Profiles\\0ol8p6jy.selenium'):\n",
    "    options = Options()\n",
    "    options.set_preference('profile', profile_path)\n",
    "    driver = webdriver.Firefox(options=options)\n",
    "    driver.get(f\"https://projecteuler.net/problem={problem}\")\n",
    "    driver.find_element_by_xpath('//*[@id=\"guess\"]').send_keys(guess)\n",
    "    driver.find_element_by_xpath(\"/html/body/div[1]/div[3]/div[7]/form/div/div[2]/input\").click()\n",
    "    if driver.find_element_by_xpath(\"/html/body/div[1]/div[3]/p[1]\").text == \"Sorry, but the answer you gave appears to be incorrect.\":\n",
    "        answer = False\n",
    "    else:\n",
    "        answer = True\n",
    "    driver.close()\n",
    "    return answer\n"
   ]
  },
  {
   "cell_type": "code",
   "execution_count": 6,
   "metadata": {},
   "outputs": [],
   "source": []
  },
  {
   "cell_type": "code",
   "execution_count": 8,
   "metadata": {},
   "outputs": [],
   "source": [
    "problem = 33\n",
    "driver.get(f\"https://projecteuler.net/problem={problem}\")"
   ]
  },
  {
   "cell_type": "code",
   "execution_count": 9,
   "metadata": {},
   "outputs": [
    {
     "name": "stderr",
     "output_type": "stream",
     "text": [
      "C:\\Users\\jrobinson\\AppData\\Local\\Temp\\ipykernel_21288\\2545696911.py:1: DeprecationWarning: find_element_by_xpath is deprecated. Please use find_element(by=By.XPATH, value=xpath) instead\n",
      "  driver.find_element_by_xpath('//*[@id=\"guess\"]').send_keys(\"1\")\n"
     ]
    }
   ],
   "source": [
    "driver.find_element_by_xpath('//*[@id=\"guess\"]').send_keys(\"1\")"
   ]
  },
  {
   "cell_type": "code",
   "execution_count": 11,
   "metadata": {},
   "outputs": [
    {
     "name": "stderr",
     "output_type": "stream",
     "text": [
      "C:\\Users\\jrobinson\\AppData\\Local\\Temp\\ipykernel_21288\\649883871.py:1: DeprecationWarning: find_element_by_xpath is deprecated. Please use find_element(by=By.XPATH, value=xpath) instead\n",
      "  driver.find_element_by_xpath(\"/html/body/div[1]/div[3]/div[7]/form/div/div[2]/input\").click()\n"
     ]
    }
   ],
   "source": [
    "driver.find_element_by_xpath(\"/html/body/div[1]/div[3]/div[7]/form/div/div[2]/input\").click()\n"
   ]
  },
  {
   "cell_type": "code",
   "execution_count": 13,
   "metadata": {},
   "outputs": [
    {
     "name": "stderr",
     "output_type": "stream",
     "text": [
      "C:\\Users\\jrobinson\\AppData\\Local\\Temp\\ipykernel_21288\\2385654911.py:1: DeprecationWarning: find_element_by_xpath is deprecated. Please use find_element(by=By.XPATH, value=xpath) instead\n",
      "  driver.find_element_by_xpath(\"/html/body/div[1]/div[3]/p[1]\").text == \"Sorry, but the answer you gave appears to be incorrect.\"\n"
     ]
    },
    {
     "data": {
      "text/plain": [
       "True"
      ]
     },
     "execution_count": 13,
     "metadata": {},
     "output_type": "execute_result"
    }
   ],
   "source": [
    "driver.find_element_by_xpath(\"/html/body/div[1]/div[3]/p[1]\").text == \"Sorry, but the answer you gave appears to be incorrect.\""
   ]
  },
  {
   "cell_type": "code",
   "execution_count": 28,
   "metadata": {},
   "outputs": [],
   "source": [
    "driver.close()"
   ]
  }
 ],
 "metadata": {
  "interpreter": {
   "hash": "e870b67f3fcb35ffa692ff9ceebfabbf3e57dffa4ef37ee78e53b058e7baced9"
  },
  "kernelspec": {
   "display_name": "Python 3.10.4 ('venv': venv)",
   "language": "python",
   "name": "python3"
  },
  "language_info": {
   "codemirror_mode": {
    "name": "ipython",
    "version": 3
   },
   "file_extension": ".py",
   "mimetype": "text/x-python",
   "name": "python",
   "nbconvert_exporter": "python",
   "pygments_lexer": "ipython3",
   "version": "3.10.4"
  },
  "orig_nbformat": 4
 },
 "nbformat": 4,
 "nbformat_minor": 2
}
