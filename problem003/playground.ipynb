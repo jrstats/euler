{
 "cells": [
  {
   "cell_type": "markdown",
   "metadata": {},
   "source": [
    "# Problem 3\n",
    "\n",
    "The prime factors of 13195 are 5, 7, 13 and 29.\n",
    "\n",
    "What is the largest prime factor of the number 600851475143 ?\n"
   ]
  },
  {
   "cell_type": "code",
   "execution_count": 28,
   "metadata": {},
   "outputs": [],
   "source": [
    "import math\n",
    "def generateIsPrime(n):\n",
    "    # Eratosthenes Seive\n",
    "    # https://www.youtube.com/watch?v=JA_YrFwE1hc\n",
    "    if n < 2:\n",
    "        return []\n",
    "    \n",
    "    # generate list of 0, 1, 2, 3,  ..., n\n",
    "    nArray = [False, False] + [True] * (n-1)\n",
    "    maxCheck = math.isqrt(n) + 1\n",
    "    for i in range(2, maxCheck):\n",
    "        if nArray[i]:\n",
    "            for j in range(i**2, n+1, i):\n",
    "                nArray[j] = False\n",
    "    return nArray\n",
    "\n",
    "def generatePrimesLeqN(n):\n",
    "    return [i for i, x in enumerate(generateIsPrime(n)) if x]\n",
    "\n",
    "def setOfPrimeFactors(x):\n",
    "    possiblePrimeFactors = generatePrimesLeqN(math.isqrt(x)+1)\n",
    "    return {y for y in possiblePrimeFactors if x % y == 0}\n",
    "\n",
    "def primeFactorisation(x):\n",
    "    primeFactorisation = []\n",
    "    primeFactors = setOfPrimeFactors(x)\n",
    "    xCheck = x\n",
    "    for p in primeFactors:\n",
    "        while xCheck % p == 0:\n",
    "            primeFactorisation.append(p)\n",
    "            xCheck = xCheck / p\n",
    "    return primeFactorisation"
   ]
  },
  {
   "cell_type": "code",
   "execution_count": 31,
   "metadata": {},
   "outputs": [],
   "source": [
    "max(setOfPrimeFactors(600851475143))\n"
   ]
  },
  {
   "cell_type": "code",
   "execution_count": null,
   "metadata": {},
   "outputs": [],
   "source": [
    "len(generatePrimesLeqN(600851475143))"
   ]
  },
  {
   "cell_type": "code",
   "execution_count": null,
   "metadata": {},
   "outputs": [],
   "source": []
  }
 ],
 "metadata": {
  "kernelspec": {
   "display_name": "Python 3.9.7 64-bit ('venv': venv)",
   "language": "python",
   "name": "python397jvsc74a57bd05aec962121cecc9520e805280c920f5e8bdf99e96e07484e9ab126f8c3fe5892"
  },
  "language_info": {
   "codemirror_mode": {
    "name": "ipython",
    "version": 3
   },
   "file_extension": ".py",
   "mimetype": "text/x-python",
   "name": "python",
   "nbconvert_exporter": "python",
   "pygments_lexer": "ipython3",
   "version": "3.9.7"
  },
  "orig_nbformat": 3
 },
 "nbformat": 4,
 "nbformat_minor": 2
}