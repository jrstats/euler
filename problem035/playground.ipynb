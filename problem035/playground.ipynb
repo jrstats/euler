{
 "cells": [
  {
   "cell_type": "markdown",
   "metadata": {},
   "source": [
    "# Problem 35\n",
    "\n",
    "## Circular Primes\n",
    "\n",
    "The number, 197, is called a circular prime because all rotations of the digits: 197, 971, and 719, are themselves prime.\n",
    "\n",
    "There are thirteen such primes below 100: 2, 3, 5, 7, 11, 13, 17, 31, 37, 71, 73, 79, and 97.\n",
    "\n",
    "How many circular primes are there below one million?\n"
   ]
  },
  {
   "cell_type": "code",
   "execution_count": 32,
   "metadata": {},
   "outputs": [],
   "source": [
    "import math\n",
    "\n",
    "def generateIsPrime(n):\n",
    "    # Eratosthenes Seive\n",
    "    # https://www.youtube.com/watch?v=JA_YrFwE1hc\n",
    "    if n < 2:\n",
    "        return []\n",
    "    \n",
    "    # generate list of 0, 1, 2, 3,  ..., n\n",
    "    nArray = [False, False] + [True] * (n-1)\n",
    "    maxCheck = math.isqrt(n) + 1\n",
    "    for i in range(2, maxCheck):\n",
    "        if nArray[i]:\n",
    "            for j in range(i**2, n+1, i):\n",
    "                nArray[j] = False\n",
    "    return nArray\n",
    "\n",
    "def generatePrimesLeqN(n, is_prime=None):\n",
    "    if is_prime is None:\n",
    "        is_prime = generateIsPrime(n)\n",
    "    return [i for i, x in enumerate(is_prime) if x]\n",
    "\n",
    "def setOfPrimeFactors(x):\n",
    "    possiblePrimeFactors = generatePrimesLeqN(math.isqrt(x)+1)\n",
    "    return {y for y in possiblePrimeFactors if x % y == 0}\n",
    "\n",
    "def primeFactorisation(x):\n",
    "    primeFactorisation = []\n",
    "    primeFactors = setOfPrimeFactors(x)\n",
    "    xCheck = x\n",
    "    for p in primeFactors:\n",
    "        while xCheck % p == 0:\n",
    "            primeFactorisation.append(p)\n",
    "            xCheck = xCheck / p\n",
    "    return primeFactorisation"
   ]
  },
  {
   "cell_type": "code",
   "execution_count": 35,
   "metadata": {},
   "outputs": [],
   "source": [
    "n = 1_000_000\n"
   ]
  },
  {
   "cell_type": "code",
   "execution_count": 36,
   "metadata": {},
   "outputs": [],
   "source": [
    "\n",
    "def all_circulars(n):\n",
    "    n_str = str(int(n))\n",
    "    n_circ = set()\n",
    "    while True:\n",
    "        if n_str in n_circ:\n",
    "            break\n",
    "        else:\n",
    "            n_circ.add(n_str)\n",
    "            n_str = n_str[-1] + n_str[:-1]\n",
    "    return n_circ\n",
    "\n",
    "def check_contains_even(n):\n",
    "    n_str = str(int(n))\n",
    "    even_n_str = set(n_str).intersection(set([\"2\",\"4\",\"6\",\"8\",\"0\"]))\n",
    "    return len(even_n_str) > 0"
   ]
  },
  {
   "cell_type": "code",
   "execution_count": 77,
   "metadata": {},
   "outputs": [],
   "source": [
    "def circular_primes_leq_n(n):\n",
    "    solution = set(x for x in [\"2\", \"3\", \"5\", \"7\"] if int(x) < n)\n",
    "    if n < 10:\n",
    "        return solution\n",
    "\n",
    "    is_prime = generateIsPrime(n)\n",
    "    primes_leq_n = generatePrimesLeqN(n, is_prime)\n",
    "    \n",
    "    for x in primes_leq_n:\n",
    "        if x < 10:\n",
    "            continue\n",
    "\n",
    "        x_str = str(x)\n",
    "        if check_contains_even(x_str):\n",
    "            continue\n",
    "        \n",
    "        x_circ = all_circulars(x_str)\n",
    "        if all(is_prime[int(y)] for y in x_circ):\n",
    "            solution = solution.union(x_circ)\n",
    "\n",
    "    return solution"
   ]
  },
  {
   "cell_type": "code",
   "execution_count": 80,
   "metadata": {},
   "outputs": [
    {
     "data": {
      "text/plain": [
       "55"
      ]
     },
     "execution_count": 80,
     "metadata": {},
     "output_type": "execute_result"
    }
   ],
   "source": [
    "len(circular_primes_leq_n(n))"
   ]
  },
  {
   "cell_type": "code",
   "execution_count": null,
   "metadata": {},
   "outputs": [],
   "source": []
  }
 ],
 "metadata": {
  "kernelspec": {
   "display_name": "Python 3.10.4 ('venv': venv)",
   "language": "python",
   "name": "python3"
  },
  "language_info": {
   "codemirror_mode": {
    "name": "ipython",
    "version": 3
   },
   "file_extension": ".py",
   "mimetype": "text/x-python",
   "name": "python",
   "nbconvert_exporter": "python",
   "pygments_lexer": "ipython3",
   "version": "3.10.4"
  },
  "orig_nbformat": 4,
  "vscode": {
   "interpreter": {
    "hash": "3eda99ec173cadbd0ab7c48c8ad88375f3b290b4cec4f553fac82ed200cff698"
   }
  }
 },
 "nbformat": 4,
 "nbformat_minor": 2
}
