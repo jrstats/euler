{
 "cells": [
  {
   "cell_type": "markdown",
   "metadata": {},
   "source": [
    "# Problem 3\n",
    "\n",
    "## Largest palindrome product\n",
    "\n",
    "A palindromic number reads the same both ways. The largest palindrome made from the product of two 2-digit numbers is 9009 = 91 × 99.\n",
    "\n",
    "Find the largest palindrome made from the product of two 3-digit numbers.\n"
   ]
  },
  {
   "cell_type": "code",
   "execution_count": 4,
   "metadata": {},
   "outputs": [],
   "source": [
    "def isPalindrome(x):\n",
    "    xStr = str(x)\n",
    "    return xStr == xStr[::-1]\n",
    "\n",
    "def maxNDigitProductPalindrome(n):\n",
    "    digitRange = range(10**n, 10**(n-1), -1)\n",
    "    maxPalindromes = []\n",
    "\n",
    "    ## can probably insert a break clause somewhere?\n",
    "    for x in digitRange:\n",
    "        xPalindromes = [(x, y, x*y) for y in digitRange if isPalindrome(x*y)]\n",
    "        if len(xPalindromes) > 0:\n",
    "            maxPalindromes.append(max(xPalindromes, key=lambda p: p[2]))\n",
    "    return max(maxPalindromes, key=lambda p: p[2])"
   ]
  },
  {
   "cell_type": "code",
   "execution_count": 26,
   "metadata": {},
   "outputs": [
    {
     "data": {
      "text/plain": "(9999, 9901, 99000099)"
     },
     "execution_count": 26,
     "metadata": {},
     "output_type": "execute_result"
    }
   ],
   "source": [
    "maxNDigitProductPalindrome(4)"
   ]
  },
  {
   "cell_type": "code",
   "execution_count": null,
   "metadata": {},
   "outputs": [],
   "source": []
  }
 ],
 "metadata": {
  "kernelspec": {
   "display_name": "Python 3.9.7 64-bit ('venv': venv)",
   "language": "python",
   "name": "python397jvsc74a57bd05aec962121cecc9520e805280c920f5e8bdf99e96e07484e9ab126f8c3fe5892"
  },
  "language_info": {
   "codemirror_mode": {
    "name": "ipython",
    "version": 3
   },
   "file_extension": ".py",
   "mimetype": "text/x-python",
   "name": "python",
   "nbconvert_exporter": "python",
   "pygments_lexer": "ipython3",
   "version": "3.9.7"
  },
  "orig_nbformat": 2
 },
 "nbformat": 4,
 "nbformat_minor": 2
}