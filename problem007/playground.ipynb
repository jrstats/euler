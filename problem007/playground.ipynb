{
 "cells": [
  {
   "cell_type": "markdown",
   "metadata": {},
   "source": [
    "# Problem 7\n",
    "\n",
    "By listing the first six prime numbers: 2, 3, 5, 7, 11, and 13, we can see that the 6th prime is 13.\n",
    "\n",
    "What is the 10 001st prime number?\n"
   ]
  },
  {
   "cell_type": "code",
   "execution_count": 22,
   "metadata": {},
   "outputs": [],
   "source": [
    "import math\n",
    "def generateIsPrime(n):\n",
    "    # Eratosthenes Seive\n",
    "    # https://www.youtube.com/watch?v=JA_YrFwE1hc\n",
    "    if n < 2:\n",
    "        return []\n",
    "    \n",
    "    # generate list of 0, 1, 2, 3,  ..., n\n",
    "    nArray = [False, False] + [True] * (n-1)\n",
    "    maxCheck = math.isqrt(n) + 1\n",
    "    for i in range(2, maxCheck):\n",
    "        if nArray[i]:\n",
    "            for j in range(i**2, n+1, i):\n",
    "                nArray[j] = False\n",
    "    return nArray\n",
    "\n",
    "def generatePrimesLeqN(n):\n",
    "    return [i for i, x in enumerate(generateIsPrime(n)) if x]\n",
    "\n",
    "def setOfPrimeFactors(x):\n",
    "    possiblePrimeFactors = generatePrimesLeqN(math.isqrt(x)+1)\n",
    "    return {y for y in possiblePrimeFactors if x % y == 0}\n",
    "\n",
    "def primeFactorisation(x):\n",
    "    primeFactorisation = []\n",
    "    primeFactors = setOfPrimeFactors(x)\n",
    "    xCheck = x\n",
    "    for p in primeFactors:\n",
    "        while xCheck % p == 0:\n",
    "            primeFactorisation.append(p)\n",
    "            xCheck = xCheck / p\n",
    "    return primeFactorisation\n",
    "\n",
    "def nthPrime(n):\n",
    "    # there are approximately n/log(n) primes less than or equal to n\n",
    "    # prime number theorem\n",
    "    primesUnderMagnitude = [(10**x, 10**x / math.log(10**x)) for x in range(1, 100)]\n",
    "    likelyUpperBound = [x[0] for x in primesUnderMagnitude if x[1] > n][0]\n",
    "    return generatePrimesLeqN(likelyUpperBound)[n-1]\n"
   ]
  }
 ],
 "metadata": {
  "kernelspec": {
   "display_name": "Python 3.9.7 64-bit ('venv': venv)",
   "name": "python397jvsc74a57bd05aec962121cecc9520e805280c920f5e8bdf99e96e07484e9ab126f8c3fe5892"
  },
  "language_info": {
   "name": "python",
   "version": ""
  },
  "orig_nbformat": 2
 },
 "nbformat": 4,
 "nbformat_minor": 2
}