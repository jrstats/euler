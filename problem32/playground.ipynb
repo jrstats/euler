{
 "cells": [
  {
   "cell_type": "markdown",
   "metadata": {},
   "source": [
    "# [Problem 32](https://projecteuler.net/problem=32)"
   ]
  },
  {
   "cell_type": "markdown",
   "metadata": {},
   "source": [
    "\n",
    "\n",
    "We shall say that an n-digit number is pandigital if it makes use of all the digits 1 to n exactly once; for example, the 5-digit number, 15234, is 1 through 5 pandigital.\n",
    "\n",
    "The product 7254 is unusual, as the identity, 39 × 186 = 7254, containing multiplicand, multiplier, and product is 1 through 9 pandigital.\n",
    "\n",
    "Find the sum of all products whose multiplicand/multiplier/product identity can be written as a 1 through 9 pandigital.\n",
    "HINT: Some products can be obtained in more than one way so be sure to only include it once in your sum.\n"
   ]
  },
  {
   "cell_type": "code",
   "execution_count": null,
   "metadata": {},
   "outputs": [],
   "source": [
    "import datetime as dt"
   ]
  },
  {
   "cell_type": "code",
   "execution_count": null,
   "metadata": {},
   "outputs": [],
   "source": [
    "def intToStrSet(x):\n",
    "    return str(x), set(str(x))\n",
    "\n",
    "def isPandigital(x):\n",
    "    xStr, xSet = intToStrSet(x)\n",
    "\n",
    "    if len(xStr) != 9:\n",
    "        return False\n",
    "\n",
    "    if contains0(xStr, xSet):\n",
    "        return False\n",
    "    \n",
    "    if containsDuplicate(xStr, xSet):\n",
    "        return False\n",
    "\n",
    "    return containsAllDigits(xStr, xSet)\n",
    "\n",
    "    \n",
    "def contains0(xStr, xSet):\n",
    "    return \"0\" in xStr\n",
    "\n",
    "def containsDuplicate(xStr, xSet):\n",
    "    return len(xSet) != len(xStr)\n",
    "\n",
    "\n",
    "def containsAllDigits(xStr, xSet):\n",
    "    return xSet == set([str(y) for y in range(1, len(xStr)+1)])\n"
   ]
  },
  {
   "cell_type": "code",
   "execution_count": null,
   "metadata": {},
   "outputs": [],
   "source": [
    "def productToStr(a, b):\n",
    "    return f\"{a} * {b} = {a*b}\"\n",
    "\n",
    "def productLen(a, b):\n",
    "    return len(str(a) + str(b) + str(a*b))\n",
    "\n",
    "def productIsPandigital(a, b):\n",
    "    if (contains0(*intToStrSet(a)) or \n",
    "        contains0(*intToStrSet(b)) or \n",
    "        contains0(*intToStrSet(a*b)) or \n",
    "        containsDuplicate(*intToStrSet(a)) or \n",
    "        containsDuplicate(*intToStrSet(b)) or\n",
    "        containsDuplicate(*intToStrSet(a*b))\n",
    "    ):\n",
    "        return False, None\n",
    "\n",
    "    xStr = str(a) + str(b) + str(a*b)\n",
    "    if isPandigital(xStr):\n",
    "        print(productToStr(a, b))\n",
    "        return True, a*b\n",
    "    else:\n",
    "        return False, None"
   ]
  },
  {
   "cell_type": "code",
   "execution_count": null,
   "metadata": {},
   "outputs": [],
   "source": [
    "t0 = dt.datetime.now()\n",
    "\n",
    "pandigitalProducts = []\n",
    "for a in range(2, 10**9):\n",
    "    maxB = int((10**9)/a)\n",
    "    if productLen(a, a) > 9:\n",
    "        break\n",
    "    for b in range(a, maxB):\n",
    "        if productLen(a, b) > 9:\n",
    "            break\n",
    "        pIsPandigital, product = productIsPandigital(a, b)\n",
    "        if pIsPandigital:\n",
    "            pandigitalProducts.append(product)\n",
    "\n",
    "pandigitalProductsSet = set(pandigitalProducts)\n",
    "\n",
    "t1 = dt.datetime.now()\n",
    "t2 = t1 - t0\n",
    "\n",
    "print(\"##########\")\n",
    "print(f\"SOLUTION FOUND IN {t2.microseconds / 10**6} SECONDS\")\n",
    "print(f\"NUMBER OF SOLUTIONS: {len(pandigitalProducts)}\")\n",
    "print(f\"NUMBER OF UNIQUE SOLUTIONS: {len(pandigitalProductsSet)}\")\n",
    "print(f\"SUM: {sum(pandigitalProductsSet)}\")\n",
    "    "
   ]
  }
 ],
 "metadata": {
  "interpreter": {
   "hash": "e28f6a126c4b03b52c5642b2a9804247f177daa07e470d333a6950f782083994"
  },
  "kernelspec": {
   "display_name": "Python 3.10.4 64-bit",
   "language": "python",
   "name": "python3"
  },
  "language_info": {
   "codemirror_mode": {
    "name": "ipython",
    "version": 3
   },
   "file_extension": ".py",
   "mimetype": "text/x-python",
   "name": "python",
   "nbconvert_exporter": "python",
   "pygments_lexer": "ipython3",
   "version": "3.10.4"
  },
  "orig_nbformat": 4
 },
 "nbformat": 4,
 "nbformat_minor": 2
}
