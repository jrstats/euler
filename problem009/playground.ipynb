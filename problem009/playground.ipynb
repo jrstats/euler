{
 "cells": [
  {
   "cell_type": "markdown",
   "metadata": {},
   "source": [
    "# Problem 8\n",
    "\n",
    "\n",
    "\n",
    "A Pythagorean triplet is a set of three natural numbers, a < b < c, for which,\n",
    "\n",
    "$a^2 + b^2 = c^2$\n",
    "\n",
    "For example, 32 + 42 = 9 + 16 = 25 = 52.\n",
    "\n",
    "There exists exactly one Pythagorean triplet for which a + b + c = 1000.\n",
    "Find the product $abc$.\n",
    "\n"
   ]
  },
  {
   "cell_type": "code",
   "execution_count": 15,
   "metadata": {},
   "outputs": [
    {
     "name": "stdout",
     "output_type": "stream",
     "text": [
      "a: 200.0; b: 375.0; a+b: 425.0; abc: 31875000.0\n"
     ]
    }
   ],
   "source": [
    "square_numbers = {x**2 for x in range(1, 1000)}\n",
    "square_numbers_list = list(square_numbers)\n",
    "for i, a2 in enumerate(square_numbers_list):\n",
    "    for j, b2 in enumerate(square_numbers_list[i:]):\n",
    "        if (a2 + b2 in square_numbers) and (a2**0.5 + b2**0.5 + (a2+b2)**0.5) == 1000:\n",
    "            print(f\"a: {a2**0.5}; b: {b2**0.5}; a+b: {(a2+b2)**0.5}; abc: {(a2**0.5 * b2**0.5 * (a2+b2)**0.5)}\")\n"
   ]
  },
  {
   "cell_type": "code",
   "execution_count": null,
   "metadata": {},
   "outputs": [],
   "source": []
  }
 ],
 "metadata": {
  "interpreter": {
   "hash": "3eda99ec173cadbd0ab7c48c8ad88375f3b290b4cec4f553fac82ed200cff698"
  },
  "kernelspec": {
   "display_name": "Python 3.10.4 ('venv': venv)",
   "language": "python",
   "name": "python3"
  },
  "language_info": {
   "codemirror_mode": {
    "name": "ipython",
    "version": 3
   },
   "file_extension": ".py",
   "mimetype": "text/x-python",
   "name": "python",
   "nbconvert_exporter": "python",
   "pygments_lexer": "ipython3",
   "version": "3.10.4"
  },
  "orig_nbformat": 2
 },
 "nbformat": 4,
 "nbformat_minor": 2
}
