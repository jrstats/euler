{
 "cells": [
  {
   "cell_type": "markdown",
   "metadata": {},
   "source": [
    "# [Problem 32](https://projecteuler.net/problem=32)"
   ]
  },
  {
   "cell_type": "markdown",
   "metadata": {},
   "source": [
    "\n",
    "\n",
    "\n",
    "\n",
    "In the United Kingdom the currency is made up of pound (£) and pence (p). There are eight coins in general circulation:\n",
    "\n",
    "    1p, 2p, 5p, 10p, 20p, 50p, £1 (100p), and £2 (200p).\n",
    "\n",
    "It is possible to make £2 in the following way:\n",
    "\n",
    "    1×£1 + 1×50p + 2×20p + 1×5p + 1×2p + 3×1p\n",
    "\n",
    "How many different ways can £2 be made using any number of coins?\n"
   ]
  },
  {
   "cell_type": "markdown",
   "metadata": {},
   "source": [
    "## NOT MY SOLUTION"
   ]
  },
  {
   "cell_type": "markdown",
   "metadata": {},
   "source": [
    "For the biggest coin in the list (b), find the number of times it divides fully into the target (n).\n",
    "You could use this coin 0, 1, ..., n times.\n",
    "\n",
    "So loop through these ways you can use the coin (i times), and create a new target by subtracting from the target the number of times you use the coin, and removing the coin from the possible set.\n",
    "\n",
    "- The new target becomes `target - i * b`.\n",
    "- `b` is removed from the list of coins to use.\n",
    "\n",
    "If the target is 0, then you have successfully reached the target, return 1 (for the way that you reached it).\n",
    "Or if 1p is the only coin left, then the only way to reach the target is to use 1p coins for the rest of the way."
   ]
  },
  {
   "cell_type": "code",
   "execution_count": 4,
   "metadata": {},
   "outputs": [],
   "source": [
    "def ways(target=200, coins=[1,2,5,10,20,50,100,200]):\n",
    "    if target == 0 or len(coins) <= 1: \n",
    "        return 1\n",
    "\n",
    "    b = coins[-1]\n",
    "    n = target // b\n",
    "    return sum(ways(target - i*b, coins[:-1]) for i in range(1 + n))"
   ]
  },
  {
   "cell_type": "code",
   "execution_count": 18,
   "metadata": {},
   "outputs": [
    {
     "data": {
      "text/plain": [
       "73682"
      ]
     },
     "execution_count": 18,
     "metadata": {},
     "output_type": "execute_result"
    }
   ],
   "source": [
    "ways(200)"
   ]
  }
 ],
 "metadata": {
  "interpreter": {
   "hash": "3eda99ec173cadbd0ab7c48c8ad88375f3b290b4cec4f553fac82ed200cff698"
  },
  "kernelspec": {
   "display_name": "Python 3.10.4 ('venv': venv)",
   "language": "python",
   "name": "python3"
  },
  "language_info": {
   "codemirror_mode": {
    "name": "ipython",
    "version": 3
   },
   "file_extension": ".py",
   "mimetype": "text/x-python",
   "name": "python",
   "nbconvert_exporter": "python",
   "pygments_lexer": "ipython3",
   "version": "3.10.4"
  },
  "orig_nbformat": 4
 },
 "nbformat": 4,
 "nbformat_minor": 2
}
