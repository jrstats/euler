{
 "cells": [
  {
   "cell_type": "markdown",
   "metadata": {},
   "source": [
    "# [Problem 32](https://projecteuler.net/problem=32)"
   ]
  },
  {
   "cell_type": "markdown",
   "metadata": {},
   "source": [
    "\n",
    "\n",
    "\n",
    "\n",
    "In the United Kingdom the currency is made up of pound (£) and pence (p). There are eight coins in general circulation:\n",
    "\n",
    "    1p, 2p, 5p, 10p, 20p, 50p, £1 (100p), and £2 (200p).\n",
    "\n",
    "It is possible to make £2 in the following way:\n",
    "\n",
    "    1×£1 + 1×50p + 2×20p + 1×5p + 1×2p + 3×1p\n",
    "\n",
    "How many different ways can £2 be made using any number of coins?\n"
   ]
  },
  {
   "cell_type": "code",
   "execution_count": 3,
   "metadata": {},
   "outputs": [],
   "source": [
    "def stateToString(state):\n",
    "    return f\"1: {state[1]}; 2: {state[2]}; 5: {state[5]}; 10: {state[10]}; 20: {state[20]}; 50: {state[50]}; 100: {state[100]}; 200: {state[200]}\"\n",
    "\n",
    "def addCoin(state, coin):\n",
    "    state1 = state.copy()\n",
    "    state1[coin] += 1\n",
    "    return state1"
   ]
  },
  {
   "cell_type": "code",
   "execution_count": 19,
   "metadata": {},
   "outputs": [],
   "source": [
    "def findOneSolution(target, coins, current_state, solutions, non_solutions):\n",
    "    if target == 0:\n",
    "        return stateToString(current_state), True, False\n",
    "\n",
    "    possible_coins = {\n",
    "        #distance: coin\n",
    "        target - c: c\n",
    "        for c in coins\n",
    "        if target - c >= 0\n",
    "        and stateToString(addCoin(current_state, c)) not in solutions\n",
    "        and stateToString(addCoin(current_state, c)) not in non_solutions\n",
    "    }\n",
    "\n",
    "    try:\n",
    "        best_coin = possible_coins[min(possible_coins.keys())]\n",
    "        current_state[best_coin] += 1\n",
    "        return findOneSolution(target-best_coin, coins, current_state, solutions, non_solutions)\n",
    "    except:\n",
    "        if sum(current_state.values()) == 0:\n",
    "            # started with nothing - can't add a coin --> FINISHED\n",
    "            return stateToString(current_state), False, True\n",
    "        else:\n",
    "            return stateToString(current_state), False, False"
   ]
  },
  {
   "cell_type": "code",
   "execution_count": 21,
   "metadata": {},
   "outputs": [
    {
     "name": "stdout",
     "output_type": "stream",
     "text": [
      "FINISHED\n"
     ]
    }
   ],
   "source": [
    "target = 200\n",
    "coins = {1, 2, 5, 10, 20, 50, 100, 200}\n",
    "\n",
    "#\n",
    "original_state = {c: 0 for c in coins}\n",
    "current_state = original_state.copy()\n",
    "solutions = set()\n",
    "non_solutions = set()\n",
    "i = 0\n",
    "# while f\"1: {target}; 2: 0; 5: 0; 10: 0; 20: 0; 50: 0; 100: 0; 200: 0\" not in solutions:\n",
    "while True:\n",
    "    solution, success, finished = findOneSolution(target, coins, current_state, solutions, non_solutions)\n",
    "    current_state = original_state.copy()\n",
    "    if finished:\n",
    "        print(\"FINISHED\")\n",
    "        break\n",
    "\n",
    "    if success:\n",
    "        solutions.add(solution)\n",
    "        i += 1\n",
    "    else:\n",
    "        non_solutions.add(solution)\n",
    "    # print(solution, success)\n",
    "    "
   ]
  },
  {
   "cell_type": "code",
   "execution_count": 22,
   "metadata": {},
   "outputs": [
    {
     "data": {
      "text/plain": [
       "73682"
      ]
     },
     "execution_count": 22,
     "metadata": {},
     "output_type": "execute_result"
    }
   ],
   "source": [
    "len(solutions)"
   ]
  }
 ],
 "metadata": {
  "interpreter": {
   "hash": "3eda99ec173cadbd0ab7c48c8ad88375f3b290b4cec4f553fac82ed200cff698"
  },
  "kernelspec": {
   "display_name": "Python 3.10.4 ('venv': venv)",
   "language": "python",
   "name": "python3"
  },
  "language_info": {
   "codemirror_mode": {
    "name": "ipython",
    "version": 3
   },
   "file_extension": ".py",
   "mimetype": "text/x-python",
   "name": "python",
   "nbconvert_exporter": "python",
   "pygments_lexer": "ipython3",
   "version": "3.10.4"
  },
  "orig_nbformat": 4
 },
 "nbformat": 4,
 "nbformat_minor": 2
}
